{
  "nbformat": 4,
  "nbformat_minor": 0,
  "metadata": {
    "colab": {
      "provenance": []
    },
    "kernelspec": {
      "name": "python3",
      "display_name": "Python 3"
    },
    "language_info": {
      "name": "python"
    }
  },
  "cells": [
    {
      "cell_type": "markdown",
      "source": [
        "# Assignment 3"
      ],
      "metadata": {
        "id": "G_4Uq9AcI7KL"
      }
    },
    {
      "cell_type": "markdown",
      "source": [
        "Please do not change, delete or edit any cells. Write your code in between designated lines."
      ],
      "metadata": {
        "id": "fr_EGCu-JMed"
      }
    },
    {
      "cell_type": "markdown",
      "source": [
        "## Question 1 (15 points)"
      ],
      "metadata": {
        "id": "L69__o06JnIg"
      }
    },
    {
      "cell_type": "code",
      "source": [
        "# Create a dictionary named dict1 then add key and values.\n",
        "# When you print output of dict1 will be shown as {'Peas': 55, 'Canola': 66, 'Oat': 65}.\n",
        "\n",
        "## Your code here - down ##\n",
        "\n",
        "## Your code here - up ##"
      ],
      "metadata": {
        "id": "bVAI5ISdJOWR"
      },
      "execution_count": null,
      "outputs": []
    },
    {
      "cell_type": "code",
      "source": [
        "# In this cell you need to change the assigned value of Peas to 66 and print dict1 again.\n",
        "\n",
        "## Your code here - down ##\n",
        "\n",
        "## Your code here - up ##"
      ],
      "metadata": {
        "id": "962MZgyEKSBw"
      },
      "execution_count": 1,
      "outputs": []
    },
    {
      "cell_type": "code",
      "source": [
        "# Now use For Loop and print values and key inside dict1. Your output will look like:\n",
        "# Peas\n",
        "# 66\n",
        "# and so on.\n",
        "\n",
        "## Your code here - down ##\n",
        "\n",
        "## Your code here - up ##"
      ],
      "metadata": {
        "id": "ZYkqG-uxKyMe"
      },
      "execution_count": null,
      "outputs": []
    },
    {
      "cell_type": "markdown",
      "source": [
        "## Question 2 (30 points)"
      ],
      "metadata": {
        "id": "e4Ugu5vNKohg"
      }
    },
    {
      "cell_type": "code",
      "source": [
        "ls = [2,7,9, 4]\n",
        "\n",
        "# Method 1\n",
        "# Ceate a list that consist of square of ls values.\n",
        "\n",
        "## Your code here - down ##\n",
        "\n",
        "## Your code here - up ##"
      ],
      "metadata": {
        "id": "1MeSpsIaMFrn"
      },
      "execution_count": null,
      "outputs": []
    },
    {
      "cell_type": "code",
      "source": [
        "# Method 2\n",
        "\n",
        "## Your code here - down ##\n",
        "\n",
        "## Your code here - up ##"
      ],
      "metadata": {
        "id": "41u-FWnoMpfq"
      },
      "execution_count": null,
      "outputs": []
    },
    {
      "cell_type": "markdown",
      "source": [
        "## Question 3 (55 points)"
      ],
      "metadata": {
        "id": "eeYzaBCFMwgS"
      }
    },
    {
      "cell_type": "code",
      "source": [
        "ar_1 = np.array([[3, 4, 5],\n",
        "                 [3, 4, 5]])\n",
        "# What is shape of the array?\n",
        "\n",
        "## Your code here - down ##\n",
        "\n",
        "## Your code here - up ##"
      ],
      "metadata": {
        "id": "OXhs3bGZM-Oj"
      },
      "execution_count": null,
      "outputs": []
    },
    {
      "cell_type": "code",
      "source": [
        "ar_2 = ([[3, 4, 5],\n",
        "         [8, 4, 1]])\n",
        "# Print first row of ar_2\n",
        "\n",
        "## Your code here - down ##\n",
        "\n",
        "## Your code here - up ##"
      ],
      "metadata": {
        "id": "oOm_o0nCNWGD"
      },
      "execution_count": null,
      "outputs": []
    },
    {
      "cell_type": "code",
      "source": [
        "# Write a code that will print 1 in ar_2.\n",
        "\n",
        "## Your code here - down ##\n",
        "\n",
        "## Your code here - up ##"
      ],
      "metadata": {
        "id": "y9bfDeDQOBAn"
      },
      "execution_count": null,
      "outputs": []
    },
    {
      "cell_type": "code",
      "source": [
        "# Print entire mean of ar_2\n",
        "\n",
        "## Your code here - down ##\n",
        "\n",
        "## Your code here - up ##"
      ],
      "metadata": {
        "id": "qSs9eeJZOPSs"
      },
      "execution_count": null,
      "outputs": []
    },
    {
      "cell_type": "code",
      "source": [
        "# Print each columns' mean\n",
        "\n",
        "## Your code here - down ##\n",
        "\n",
        "## Your code here - up ##"
      ],
      "metadata": {
        "id": "eoWFWqzLOiuP"
      },
      "execution_count": null,
      "outputs": []
    },
    {
      "cell_type": "code",
      "source": [
        "# Print entire standard deviation  of ar_2\n",
        "\n",
        "## Your code here - down ##\n",
        "\n",
        "## Your code here - up ##"
      ],
      "metadata": {
        "id": "z2JxGSG1OyR1"
      },
      "execution_count": null,
      "outputs": []
    },
    {
      "cell_type": "code",
      "source": [
        "# Print each rows' standard deviation.\n",
        "\n",
        "## Your code here - down ##\n",
        "\n",
        "## Your code here - up ##"
      ],
      "metadata": {
        "id": "MxSBTiL4O4-W"
      },
      "execution_count": null,
      "outputs": []
    },
    {
      "cell_type": "code",
      "source": [
        "# Find the difference between mean and median of entire ar_2.\n",
        "\n",
        "## Your code here - down ##\n",
        "\n",
        "## Your code here - up ##"
      ],
      "metadata": {
        "id": "XF4u_fPtPBAX"
      },
      "execution_count": null,
      "outputs": []
    },
    {
      "cell_type": "markdown",
      "source": [
        "Are mean and median same? If they are different, explain what does that mean.\n",
        "\n",
        "Please explain below in this cell only.\n"
      ],
      "metadata": {
        "id": "ziac1rfuPp8H"
      }
    }
  ]
}